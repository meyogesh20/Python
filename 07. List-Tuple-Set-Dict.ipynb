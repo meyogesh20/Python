{
 "cells": [
  {
   "cell_type": "markdown",
   "id": "87379654-50b4-4493-a482-370e804aa1f2",
   "metadata": {},
   "source": [
    "# List\n",
    "1. Lists are orderd sequences that can hold a variety of object types\n",
    "2. They use [] brackets and cammas to separete objects in the list\n",
    "   #### [1,2,3,4,5]\n",
    "3. Lists support indexing and slicing. Lists can be nested and also have a variety of useful methods that can be called off of them."
   ]
  },
  {
   "cell_type": "code",
   "execution_count": 2,
   "id": "c855e2c2-5374-4ec1-be8e-7d520861cb7f",
   "metadata": {},
   "outputs": [
    {
     "data": {
      "text/plain": [
       "[1, 2, 3]"
      ]
     },
     "execution_count": 2,
     "metadata": {},
     "output_type": "execute_result"
    }
   ],
   "source": [
    "my_list = [1,2,3]\n",
    "my_list"
   ]
  },
  {
   "cell_type": "code",
   "execution_count": 3,
   "id": "71a6027c-88fa-43fe-90be-5b0cb7d4befe",
   "metadata": {},
   "outputs": [
    {
     "data": {
      "text/plain": [
       "['a', 'abc', 10, 3.14]"
      ]
     },
     "execution_count": 3,
     "metadata": {},
     "output_type": "execute_result"
    }
   ],
   "source": [
    "my_list1 = ['a','abc',10,3.14]\n",
    "my_list1"
   ]
  },
  {
   "cell_type": "code",
   "execution_count": 4,
   "id": "4f735b1e-c76a-4cfe-a38e-cfacf0803f16",
   "metadata": {},
   "outputs": [
    {
     "data": {
      "text/plain": [
       "3"
      ]
     },
     "execution_count": 4,
     "metadata": {},
     "output_type": "execute_result"
    }
   ],
   "source": [
    "len(my_list)"
   ]
  },
  {
   "cell_type": "code",
   "execution_count": 5,
   "id": "35ce7b36-53bc-4b1c-94ac-33adfb37d1a7",
   "metadata": {},
   "outputs": [
    {
     "name": "stdout",
     "output_type": "stream",
     "text": [
      "1\n",
      "2\n"
     ]
    }
   ],
   "source": [
    "# Retrieve list element\n",
    "print(my_list[0])\n",
    "print(my_list[1])"
   ]
  },
  {
   "cell_type": "markdown",
   "id": "fd9e2bf2-62c9-4fca-b844-895541621082",
   "metadata": {},
   "source": [
    "### List concatenation using +\n",
    "* Just link string concatenation"
   ]
  },
  {
   "cell_type": "code",
   "execution_count": 7,
   "id": "1358c295-eebb-41ad-a71a-7bb74eaecfc0",
   "metadata": {},
   "outputs": [
    {
     "data": {
      "text/plain": [
       "[1, 2, 3, 'a', 'abc', 10, 3.14]"
      ]
     },
     "execution_count": 7,
     "metadata": {},
     "output_type": "execute_result"
    }
   ],
   "source": [
    "my_list + my_list1"
   ]
  },
  {
   "cell_type": "code",
   "execution_count": 8,
   "id": "132bcb2c-19fe-408f-9120-96f16b142e98",
   "metadata": {},
   "outputs": [
    {
     "data": {
      "text/plain": [
       "[1, 2, 3]"
      ]
     },
     "execution_count": 8,
     "metadata": {},
     "output_type": "execute_result"
    }
   ],
   "source": [
    "my_list"
   ]
  },
  {
   "cell_type": "code",
   "execution_count": 9,
   "id": "3a60dbad-b9ca-4020-b43f-674886459c94",
   "metadata": {},
   "outputs": [
    {
     "data": {
      "text/plain": [
       "['a', 'abc', 10, 3.14]"
      ]
     },
     "execution_count": 9,
     "metadata": {},
     "output_type": "execute_result"
    }
   ],
   "source": [
    "my_list1"
   ]
  },
  {
   "cell_type": "code",
   "execution_count": 10,
   "id": "d9138578-567a-457b-9f89-b96817e22eed",
   "metadata": {},
   "outputs": [
    {
     "data": {
      "text/plain": [
       "[1, 2, 3, 'a', 'abc', 10, 3.14]"
      ]
     },
     "execution_count": 10,
     "metadata": {},
     "output_type": "execute_result"
    }
   ],
   "source": [
    "new_list = my_list + my_list1\n",
    "new_list"
   ]
  },
  {
   "cell_type": "markdown",
   "id": "0af57eab-eca9-4838-8a48-743d057be84d",
   "metadata": {},
   "source": [
    "### List is mutable - We can change the element of the list"
   ]
  },
  {
   "cell_type": "code",
   "execution_count": 12,
   "id": "7ca28abe-75b8-4a91-9497-5524bab3dc30",
   "metadata": {},
   "outputs": [
    {
     "data": {
      "text/plain": [
       "['Changed', 2, 3, 'a', 'abc', 10, 3.14]"
      ]
     },
     "execution_count": 12,
     "metadata": {},
     "output_type": "execute_result"
    }
   ],
   "source": [
    "# Change list element\n",
    "new_list[0] = 'Changed'\n",
    "new_list"
   ]
  },
  {
   "cell_type": "code",
   "execution_count": 13,
   "id": "905b1800-717e-4eed-905a-06f824d493e2",
   "metadata": {},
   "outputs": [],
   "source": [
    "# Append element to the list\n",
    "new_list.append('xyz')\n",
    "new_list.append(100)"
   ]
  },
  {
   "cell_type": "code",
   "execution_count": 55,
   "id": "052c7c75-e8f5-4bde-98d3-c54cd81e7a8f",
   "metadata": {},
   "outputs": [
    {
     "data": {
      "text/plain": [
       "[2, 3, 'a', 'abc', 10, 3.14, 'xyz']"
      ]
     },
     "execution_count": 55,
     "metadata": {},
     "output_type": "execute_result"
    }
   ],
   "source": [
    "new_list"
   ]
  },
  {
   "cell_type": "code",
   "execution_count": 59,
   "id": "1829d38d-edcb-4392-a57a-72812e298532",
   "metadata": {},
   "outputs": [
    {
     "data": {
      "text/plain": [
       "[2, 3, 'a', 'abc', 10, 8, 8, 3.14, 'xyz']"
      ]
     },
     "execution_count": 59,
     "metadata": {},
     "output_type": "execute_result"
    }
   ],
   "source": [
    "new_list.insert(5,8) #insert 8 at 5th index\n",
    "new_list"
   ]
  },
  {
   "cell_type": "code",
   "execution_count": 61,
   "id": "cc0d82bd-58e2-4c33-b82b-a42c93b35617",
   "metadata": {},
   "outputs": [
    {
     "data": {
      "text/plain": [
       "[2, 3, 'a', 'abc', 10, 8, 8, 3.14]"
      ]
     },
     "execution_count": 61,
     "metadata": {},
     "output_type": "execute_result"
    }
   ],
   "source": [
    "new_list.remove('xyz') #remove the item by specifying its value\n",
    "new_list"
   ]
  },
  {
   "cell_type": "code",
   "execution_count": 63,
   "id": "1759628b-454a-4295-95e5-34f01654a0e2",
   "metadata": {},
   "outputs": [
    {
     "data": {
      "text/plain": [
       "[2, 3, 'a', 'abc', 10, 8, 3.14]"
      ]
     },
     "execution_count": 63,
     "metadata": {},
     "output_type": "execute_result"
    }
   ],
   "source": [
    "# Remove the item from specific index\n",
    "del new_list[5]\n",
    "new_list"
   ]
  },
  {
   "cell_type": "code",
   "execution_count": 15,
   "id": "8d83baf2-1b16-4f43-9974-a6f01b800021",
   "metadata": {},
   "outputs": [
    {
     "data": {
      "text/plain": [
       "['Changed', 2, 3, 'a', 'abc', 10, 3.14, 'xyz']"
      ]
     },
     "execution_count": 15,
     "metadata": {},
     "output_type": "execute_result"
    }
   ],
   "source": [
    "# Delete list element\n",
    "new_list.pop() # By default last element will be popped up\n",
    "new_list"
   ]
  },
  {
   "cell_type": "code",
   "execution_count": 16,
   "id": "d48b0532-ea72-4403-abaa-4c5a68c7b11c",
   "metadata": {},
   "outputs": [
    {
     "data": {
      "text/plain": [
       "[2, 3, 'a', 'abc', 10, 3.14, 'xyz']"
      ]
     },
     "execution_count": 16,
     "metadata": {},
     "output_type": "execute_result"
    }
   ],
   "source": [
    "# Delete element at the index position\n",
    "new_list.pop(0) # element at 0 index will be popped up\n",
    "new_list"
   ]
  },
  {
   "cell_type": "code",
   "execution_count": 67,
   "id": "a9d3bffa-8a34-453e-826c-2d8f2cc585c1",
   "metadata": {},
   "outputs": [
    {
     "data": {
      "text/plain": [
       "[]"
      ]
     },
     "execution_count": 67,
     "metadata": {},
     "output_type": "execute_result"
    }
   ],
   "source": [
    "new_list.clear() #Clear the list, emptying the list\n",
    "new_list"
   ]
  },
  {
   "cell_type": "markdown",
   "id": "6b8a35ce-4752-47e5-b25c-7b6060473830",
   "metadata": {},
   "source": [
    "#### Slicing and indexing is possible in list just like string\n",
    "### List - Sort and Reverse"
   ]
  },
  {
   "cell_type": "markdown",
   "id": "133d2605-cfa2-46bf-af50-16026270cba5",
   "metadata": {},
   "source": [
    "<div class=\"alert alert-block alert-info\">\n",
    "<b>Note:</b> Sort and Reverse functions returns Nothing. Sorting and Reverse happens in place\n",
    "</div>"
   ]
  },
  {
   "cell_type": "code",
   "execution_count": 19,
   "id": "406a8b6f-9f3e-4893-882a-ae3619d2ca1e",
   "metadata": {},
   "outputs": [
    {
     "data": {
      "text/plain": [
       "[96, 65, 23, 76, 11, 5]"
      ]
     },
     "execution_count": 19,
     "metadata": {},
     "output_type": "execute_result"
    }
   ],
   "source": [
    "char_list = ['x', 'f','w','b','a','s','o']\n",
    "num_list = [96, 65, 23, 76, 11, 5]\n",
    "num_list"
   ]
  },
  {
   "cell_type": "code",
   "execution_count": 79,
   "id": "266f0534-67f0-4cda-8e04-d48e7490822d",
   "metadata": {},
   "outputs": [
    {
     "data": {
      "text/plain": [
       "['x', 'w', 's', 'o', 'f', 'b', 'a']"
      ]
     },
     "execution_count": 79,
     "metadata": {},
     "output_type": "execute_result"
    }
   ],
   "source": [
    "# sort function returns nothing\n",
    "char_list.sort(reverse=True)\n",
    "char_list"
   ]
  },
  {
   "cell_type": "code",
   "execution_count": 21,
   "id": "b437ef8f-8875-4edd-a184-d56e6a1177fa",
   "metadata": {},
   "outputs": [
    {
     "data": {
      "text/plain": [
       "NoneType"
      ]
     },
     "execution_count": 21,
     "metadata": {},
     "output_type": "execute_result"
    }
   ],
   "source": [
    "type(sorted_list)"
   ]
  },
  {
   "cell_type": "code",
   "execution_count": 22,
   "id": "3c3b3d7e-c589-4821-8a63-6734be864c80",
   "metadata": {},
   "outputs": [
    {
     "name": "stdout",
     "output_type": "stream",
     "text": [
      "['a', 'b', 'f', 'o', 's', 'w', 'x']\n",
      "[96, 65, 23, 76, 11, 5]\n"
     ]
    }
   ],
   "source": [
    "sorted_list = char_list\n",
    "sorted_list\n",
    "print(char_list)\n",
    "print(num_list)"
   ]
  },
  {
   "cell_type": "code",
   "execution_count": 23,
   "id": "960ec632-802f-4fa0-9019-56e38db48c24",
   "metadata": {},
   "outputs": [
    {
     "name": "stdout",
     "output_type": "stream",
     "text": [
      "[96, 65, 23, 76, 11, 5]\n"
     ]
    }
   ],
   "source": [
    "rev_num = num_list\n",
    "print(rev_num)"
   ]
  },
  {
   "cell_type": "code",
   "execution_count": 24,
   "id": "53f7009f-3485-4a73-91e5-6cce098b6ad8",
   "metadata": {},
   "outputs": [
    {
     "name": "stdout",
     "output_type": "stream",
     "text": [
      "[1, 65, 23, 76, 11, 5]\n"
     ]
    }
   ],
   "source": [
    "rev_num[0] = 1\n",
    "print(num_list)"
   ]
  },
  {
   "cell_type": "code",
   "execution_count": null,
   "id": "d1d5a295-fd97-4d60-8dd2-d1bef554a5e5",
   "metadata": {},
   "outputs": [],
   "source": []
  },
  {
   "cell_type": "code",
   "execution_count": null,
   "id": "472253f4-b039-4ce4-8cbf-c7e963121aa8",
   "metadata": {},
   "outputs": [],
   "source": []
  },
  {
   "cell_type": "code",
   "execution_count": null,
   "id": "2ff733da-7f12-4332-ba50-123553319e54",
   "metadata": {},
   "outputs": [],
   "source": []
  },
  {
   "cell_type": "code",
   "execution_count": null,
   "id": "247f06ff-0ad6-40b2-a300-4f9ac25c4cc6",
   "metadata": {},
   "outputs": [],
   "source": []
  },
  {
   "cell_type": "code",
   "execution_count": null,
   "id": "3b5e35cf-34e0-4266-a79b-dca6bc57b3aa",
   "metadata": {},
   "outputs": [],
   "source": []
  },
  {
   "cell_type": "code",
   "execution_count": null,
   "id": "dd324a83-0df5-41f0-9be1-3345fccd754e",
   "metadata": {},
   "outputs": [],
   "source": []
  },
  {
   "cell_type": "code",
   "execution_count": null,
   "id": "39339e19-cf47-499d-be09-9f8167bea846",
   "metadata": {},
   "outputs": [],
   "source": []
  },
  {
   "cell_type": "code",
   "execution_count": null,
   "id": "7150d9f8-1fe2-4368-9d15-059ace25eb28",
   "metadata": {},
   "outputs": [],
   "source": []
  },
  {
   "cell_type": "code",
   "execution_count": null,
   "id": "c9174556-a05b-45bc-a1cd-a3e54661f7d0",
   "metadata": {},
   "outputs": [],
   "source": []
  },
  {
   "cell_type": "code",
   "execution_count": null,
   "id": "0bf3a703-f197-4dc8-915c-07c3d30da24e",
   "metadata": {},
   "outputs": [],
   "source": []
  },
  {
   "cell_type": "code",
   "execution_count": null,
   "id": "aee13917-99d8-49aa-9945-972d9547f0a2",
   "metadata": {},
   "outputs": [],
   "source": []
  }
 ],
 "metadata": {
  "kernelspec": {
   "display_name": "Python [conda env:base] *",
   "language": "python",
   "name": "conda-base-py"
  },
  "language_info": {
   "codemirror_mode": {
    "name": "ipython",
    "version": 3
   },
   "file_extension": ".py",
   "mimetype": "text/x-python",
   "name": "python",
   "nbconvert_exporter": "python",
   "pygments_lexer": "ipython3",
   "version": "3.12.7"
  }
 },
 "nbformat": 4,
 "nbformat_minor": 5
}
